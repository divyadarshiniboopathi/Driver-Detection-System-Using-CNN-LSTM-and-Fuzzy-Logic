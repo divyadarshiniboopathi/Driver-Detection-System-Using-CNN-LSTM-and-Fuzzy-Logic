from google.colab import drive
drive.mount('/content/drive')
import os
os.path.exists('/content/drive/MyDrive/images')
!pip install tensorflow
# Install Required Library
!pip install -q scikit-fuzzy

# Imports
import cv2
import mediapipe as mp
import numpy as np
import os
from tqdm import tqdm
import matplotlib.pyplot as plt
import tensorflow as tf
from tensorflow.keras.models import Sequential
from tensorflow.keras.layers import LSTM, Dense, Dropout
import skfuzzy as fuzz
from skfuzzy import control as ctrl

# Mediapipe Setup
mp_face_mesh = mp.solutions.face_mesh
face_mesh = mp_face_mesh.FaceMesh(static_image_mode=True)

# EAR and Tilt Functions
def eye_aspect_ratio(landmarks, eye_indices):
    A = np.linalg.norm(landmarks[eye_indices[1]] - landmarks[eye_indices[5]])
    B = np.linalg.norm(landmarks[eye_indices[2]] - landmarks[eye_indices[4]])
    C = np.linalg.norm(landmarks[eye_indices[0]] - landmarks[eye_indices[3]])
    return (A + B) / (2.0 * C)

def head_tilt_angle(landmarks):
    left_eye = landmarks[33]
    right_eye = landmarks[263]
    dx = right_eye[0] - left_eye[0]
    dy = right_eye[1] - left_eye[1]
    return np.degrees(np.arctan2(dy, dx))

LEFT_EYE_IDX = [362, 385, 387, 263, 373, 380]
RIGHT_EYE_IDX = [33, 160, 158, 133, 153, 144]

# Load Dataset and Extract Features
DATASET_PATH = "/content/drive/MyDrive/images"
features = []

for filename in tqdm(sorted(os.listdir(DATASET_PATH))):
    if not filename.endswith(".jpg"):
        continue
    img_path = os.path.join(DATASET_PATH, filename)
    image = cv2.imread(img_path)
    rgb_image = cv2.cvtColor(image, cv2.COLOR_BGR2RGB)

    results = face_mesh.process(rgb_image)
    if results.multi_face_landmarks:
        landmarks = results.multi_face_landmarks[0]
        h, w, _ = image.shape
        coords = np.array([(lm.x * w, lm.y * h) for lm in landmarks.landmark])

        left_ear = eye_aspect_ratio(coords, LEFT_EYE_IDX)
        right_ear = eye_aspect_ratio(coords, RIGHT_EYE_IDX)
        tilt = head_tilt_angle(coords)

        features.append([left_ear, right_ear, tilt])

features = np.array(features)
np.save("features.npy", features)
print(f"Saved {features.shape[0]} frames of features.")

# Fuzzy Inference System
ear_input = ctrl.Antecedent(np.arange(0, 0.6, 0.01), 'EAR')
tilt_input = ctrl.Antecedent(np.arange(0, 91, 1), 'Tilt')
distraction_output = ctrl.Consequent(np.arange(0, 3, 1), 'Distraction')

# Membership Functions
ear_input['low'] = fuzz.trapmf(ear_input.universe, [0, 0, 0.15, 0.25])
ear_input['medium'] = fuzz.trimf(ear_input.universe, [0.2, 0.3, 0.4])
ear_input['high'] = fuzz.trapmf(ear_input.universe, [0.35, 0.45, 0.6, 0.6])

tilt_input['small'] = fuzz.trapmf(tilt_input.universe, [0, 0, 10, 20])
tilt_input['moderate'] = fuzz.trimf(tilt_input.universe, [15, 30, 45])
tilt_input['large'] = fuzz.trapmf(tilt_input.universe, [40, 55, 90, 90])

distraction_output['mild'] = fuzz.trimf(distraction_output.universe, [0, 0, 1])
distraction_output['medium'] = fuzz.trimf(distraction_output.universe, [0, 1, 2])
distraction_output['severe'] = fuzz.trimf(distraction_output.universe, [1, 2, 2])

# Fuzzy Rules
rules = [
    ctrl.Rule(ear_input['low'] & tilt_input['large'], distraction_output['severe']),
    ctrl.Rule(ear_input['low'] & tilt_input['moderate'], distraction_output['medium']),
    ctrl.Rule(ear_input['medium'] & tilt_input['moderate'], distraction_output['medium']),
    ctrl.Rule(ear_input['medium'] & tilt_input['small'], distraction_output['mild']),
    ctrl.Rule(ear_input['high'] & tilt_input['small'], distraction_output['mild']),
    ctrl.Rule(ear_input['high'] & tilt_input['large'], distraction_output['medium']),
    ctrl.Rule(ear_input['low'] & tilt_input['small'], distraction_output['medium']),
    ctrl.Rule(ear_input['medium'] & tilt_input['large'], distraction_output['severe'])
]

fuzzy_ctrl = ctrl.ControlSystem(rules)

# Labeling Sequences with FIS
SEQUENCE_LENGTH = 15
X, y = [], []

def fuzzy_label_fis(seq):
    ear_avg = np.mean((seq[:, 0] + seq[:, 1]) / 2)
    tilt_avg = np.mean(np.abs(seq[:, 2]))
    ear_clamped = np.clip(ear_avg, 0, 0.6)
    tilt_clamped = np.clip(tilt_avg, 0, 90)

    sim = ctrl.ControlSystemSimulation(fuzzy_ctrl)
    sim.input['EAR'] = ear_clamped
    sim.input['Tilt'] = tilt_clamped

    try:
        sim.compute()
        return int(round(sim.output['Distraction']))
    except:
        return 1  # Default medium

for i in range(len(features) - SEQUENCE_LENGTH):
    seq = features[i:i+SEQUENCE_LENGTH]
    label = fuzzy_label_fis(seq)
    X.append(seq)
    y.append(label)

X = np.array(X)
y = np.array(y)
np.save("X_sequences.npy", X)
np.save("y_labels.npy", y)
print("Labeled sequences saved.")

# CNN-LSTM Classifier Model
model = Sequential([
    LSTM(64, input_shape=(SEQUENCE_LENGTH, 3), return_sequences=True),
    Dropout(0.3),
    LSTM(32),
    Dense(32, activation='relu'),
    Dense(3, activation='softmax')  # 3 classes: mild, medium, severe
])

model.compile(optimizer='adam', loss='sparse_categorical_crossentropy', metrics=['accuracy'])
model.summary()

# Train the model
history = model.fit(X, y, epochs=10, batch_size=32, validation_split=0.2)

# Save model
model.save("fuzzy_cnn_lstm_driver_distraction.h5")

import pickle

# Save training history
with open("training_history.pkl", "wb") as f:
    pickle.dump(history.history, f)
# Load history
with open("training_history.pkl", "rb") as f:
    history_data = pickle.load(f)
import matplotlib.pyplot as plt
import seaborn as sns

# Set nice style
sns.set_style("whitegrid")

# Load history if not already
# with open("training_history.pkl", "rb") as f:
#     history_data = pickle.load(f)

# Create figure
fig, axs = plt.subplots(1, 2, figsize=(14, 5))

# 1st plot: Accuracy
axs[0].plot(history_data['accuracy'], label='Train Accuracy', color='blue')
axs[0].plot(history_data['val_accuracy'], label='Val Accuracy', color='green')
axs[0].set_title('Training vs Validation Accuracy')
axs[0].set_xlabel('Epochs')
axs[0].set_ylabel('Accuracy')
axs[0].legend()
axs[0].grid(True)

# 2nd plot: Loss
axs[1].plot(history_data['loss'], label='Train Loss', color='red')
axs[1].plot(history_data['val_loss'], label='Val Loss', color='orange')
axs[1].set_title('Training vs Validation Loss')
axs[1].set_xlabel('Epochs')
axs[1].set_ylabel('Loss')
axs[1].legend()
axs[1].grid(True)

plt.suptitle('Model Training History', fontsize=16)
plt.tight_layout()
plt.show()
import numpy as np
import matplotlib.pyplot as plt
from mpl_toolkits.mplot3d import Axes3D

# Generate EAR and Tilt value grids
ear_vals = np.linspace(0, 0.6, 50)  # EAR range
tilt_vals = np.linspace(0, 90, 50)  # Tilt range

E, T = np.meshgrid(ear_vals, tilt_vals)

# Create empty Z grid for distraction output
Z = np.zeros_like(E)

# Setup simulation object only ONCE
sim = ctrl.ControlSystemSimulation(fuzzy_ctrl)

# Fill Z by running fuzzy inference for each (EAR, Tilt) pair
for i in range(E.shape[0]):
    for j in range(E.shape[1]):
        e = E[i, j]
        t = T[i, j]

        try:
            sim.input['EAR'] = e
            sim.input['Tilt'] = t
            sim.compute()
            Z[i, j] = sim.output['Distraction']
        except:
            Z[i, j] = np.nan  # safer, if inference fails

# Now Plot
fig = plt.figure(figsize=(14, 8))
ax = fig.add_subplot(111, projection='3d')

# Surface plot
surf = ax.plot_surface(E, T, Z, cmap='viridis', edgecolor='k')

# Labels
ax.set_xlabel('EAR (Eye Aspect Ratio)')
ax.set_ylabel('Tilt Angle (degrees)')
ax.set_zlabel('Distraction Level')
ax.set_title('Fuzzy Inference System Surface: Distraction based on EAR and Tilt')

# Add color bar
fig.colorbar(surf, shrink=0.5, aspect=10)

plt.show()
import numpy as np
import skfuzzy as fuzz
import matplotlib.pyplot as plt

# EAR Membership Functions

ear = np.arange(0, 0.6, 0.01)
ear_low = fuzz.trapmf(ear, [0, 0, 0.15, 0.25])
ear_medium = fuzz.trimf(ear, [0.2, 0.3, 0.4])
ear_high = fuzz.trapmf(ear, [0.35, 0.45, 0.6, 0.6])

plt.figure(figsize=(8, 4))
plt.plot(ear, ear_low, label='Low')
plt.plot(ear, ear_medium, label='Medium')
plt.plot(ear, ear_high, label='High')
plt.title('Figure 5: Fuzzy Membership Function for EAR')
plt.xlabel('EAR')
plt.ylabel('Membership Degree')
plt.grid(True)
plt.legend()
plt.tight_layout()
plt.show()

# Tilt Membership Functions
tilt = np.arange(0, 91, 1)
tilt_small = fuzz.trapmf(tilt, [0, 0, 10, 20])
tilt_moderate = fuzz.trimf(tilt, [15, 30, 45])
tilt_large = fuzz.trapmf(tilt, [40, 55, 90, 90])

plt.figure(figsize=(8, 4))
plt.plot(tilt, tilt_small, label='Small')
plt.plot(tilt, tilt_moderate, label='Moderate')
plt.plot(tilt, tilt_large, label='Large')
plt.title('Figure 6: Fuzzy Membership Function for Head Tilt Angle')
plt.xlabel('Tilt Angle (degrees)')
plt.ylabel('Membership Degree')
plt.grid(True)
plt.legend()
plt.tight_layout()
plt.show()

# Distraction Level Membership Functions

distraction = np.arange(0, 3, 0.01)
mild = fuzz.trimf(distraction, [0, 0, 1])
medium = fuzz.trimf(distraction, [0, 1, 2])
severe = fuzz.trimf(distraction, [1, 2, 2])

plt.figure(figsize=(8, 4))
plt.plot(distraction, mild, label='Mild')
plt.plot(distraction, medium, label='Medium')
plt.plot(distraction, severe, label='Severe')
plt.title('Figure 7: Fuzzy Membership Function for Distraction Level')
plt.xlabel('Distraction Level')
plt.ylabel('Membership Degree')
plt.grid(True)
plt.legend()
plt.tight_layout()
plt.show()


